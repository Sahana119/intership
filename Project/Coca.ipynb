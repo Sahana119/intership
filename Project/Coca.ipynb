{
 "cells": [
  {
   "cell_type": "code",
   "execution_count": 1,
   "metadata": {},
   "outputs": [
    {
     "data": {
      "text/html": [
       "<div>\n",
       "<style scoped>\n",
       "    .dataframe tbody tr th:only-of-type {\n",
       "        vertical-align: middle;\n",
       "    }\n",
       "\n",
       "    .dataframe tbody tr th {\n",
       "        vertical-align: top;\n",
       "    }\n",
       "\n",
       "    .dataframe thead th {\n",
       "        text-align: right;\n",
       "    }\n",
       "</style>\n",
       "<table border=\"1\" class=\"dataframe\">\n",
       "  <thead>\n",
       "    <tr style=\"text-align: right;\">\n",
       "      <th></th>\n",
       "      <th>Market</th>\n",
       "      <th>Date</th>\n",
       "      <th>Grade</th>\n",
       "      <th>Arrivals</th>\n",
       "      <th>Unit</th>\n",
       "      <th>Min</th>\n",
       "      <th>Max</th>\n",
       "      <th>Modal</th>\n",
       "      <th>Variety</th>\n",
       "      <th>District</th>\n",
       "    </tr>\n",
       "  </thead>\n",
       "  <tbody>\n",
       "    <tr>\n",
       "      <th>0</th>\n",
       "      <td>MANGALURU</td>\n",
       "      <td>2019-04-01 00:00:00</td>\n",
       "      <td>AVERAGE</td>\n",
       "      <td>228</td>\n",
       "      <td>Quintal</td>\n",
       "      <td>12000</td>\n",
       "      <td>18000</td>\n",
       "      <td>16000</td>\n",
       "      <td>COCA</td>\n",
       "      <td>Dakshina Kannada</td>\n",
       "    </tr>\n",
       "    <tr>\n",
       "      <th>1</th>\n",
       "      <td>MANGALURU</td>\n",
       "      <td>2019-04-02 00:00:00</td>\n",
       "      <td>AVERAGE</td>\n",
       "      <td>227</td>\n",
       "      <td>Quintal</td>\n",
       "      <td>12000</td>\n",
       "      <td>18000</td>\n",
       "      <td>16000</td>\n",
       "      <td>COCA</td>\n",
       "      <td>Dakshina Kannada</td>\n",
       "    </tr>\n",
       "    <tr>\n",
       "      <th>2</th>\n",
       "      <td>MANGALURU</td>\n",
       "      <td>2019-04-03 00:00:00</td>\n",
       "      <td>AVERAGE</td>\n",
       "      <td>226</td>\n",
       "      <td>Quintal</td>\n",
       "      <td>12000</td>\n",
       "      <td>18000</td>\n",
       "      <td>16000</td>\n",
       "      <td>COCA</td>\n",
       "      <td>Dakshina Kannada</td>\n",
       "    </tr>\n",
       "    <tr>\n",
       "      <th>3</th>\n",
       "      <td>MANGALURU</td>\n",
       "      <td>2019-04-04 00:00:00</td>\n",
       "      <td>AVERAGE</td>\n",
       "      <td>228</td>\n",
       "      <td>Quintal</td>\n",
       "      <td>12000</td>\n",
       "      <td>18000</td>\n",
       "      <td>16000</td>\n",
       "      <td>COCA</td>\n",
       "      <td>Dakshina Kannada</td>\n",
       "    </tr>\n",
       "    <tr>\n",
       "      <th>4</th>\n",
       "      <td>MANGALURU</td>\n",
       "      <td>2019-04-05 00:00:00</td>\n",
       "      <td>AVERAGE</td>\n",
       "      <td>231</td>\n",
       "      <td>Quintal</td>\n",
       "      <td>12000</td>\n",
       "      <td>18000</td>\n",
       "      <td>16000</td>\n",
       "      <td>COCA</td>\n",
       "      <td>Dakshina Kannada</td>\n",
       "    </tr>\n",
       "  </tbody>\n",
       "</table>\n",
       "</div>"
      ],
      "text/plain": [
       "      Market                 Date    Grade  Arrivals     Unit    Min    Max  \\\n",
       "0  MANGALURU  2019-04-01 00:00:00  AVERAGE       228  Quintal  12000  18000   \n",
       "1  MANGALURU  2019-04-02 00:00:00  AVERAGE       227  Quintal  12000  18000   \n",
       "2  MANGALURU  2019-04-03 00:00:00  AVERAGE       226  Quintal  12000  18000   \n",
       "3  MANGALURU  2019-04-04 00:00:00  AVERAGE       228  Quintal  12000  18000   \n",
       "4  MANGALURU  2019-04-05 00:00:00  AVERAGE       231  Quintal  12000  18000   \n",
       "\n",
       "   Modal Variety          District  \n",
       "0  16000    COCA  Dakshina Kannada  \n",
       "1  16000    COCA  Dakshina Kannada  \n",
       "2  16000    COCA  Dakshina Kannada  \n",
       "3  16000    COCA  Dakshina Kannada  \n",
       "4  16000    COCA  Dakshina Kannada  "
      ]
     },
     "execution_count": 1,
     "metadata": {},
     "output_type": "execute_result"
    }
   ],
   "source": [
    "import pandas as pd\n",
    "import numpy as np\n",
    "import seaborn as sns\n",
    "import matplotlib.pyplot as plt\n",
    "\n",
    "\n",
    "excel_data = pd.read_excel('./Dataset/Coca(2015-2022).xlsx')\n",
    "df = pd.DataFrame(excel_data)\n",
    "df.head()"
   ]
  },
  {
   "cell_type": "code",
   "execution_count": 2,
   "metadata": {},
   "outputs": [
    {
     "data": {
      "text/plain": [
       "Market      0\n",
       "Date        0\n",
       "Grade       0\n",
       "Arrivals    0\n",
       "Unit        0\n",
       "Min         0\n",
       "Max         0\n",
       "Modal       0\n",
       "Variety     0\n",
       "District    0\n",
       "dtype: int64"
      ]
     },
     "execution_count": 2,
     "metadata": {},
     "output_type": "execute_result"
    }
   ],
   "source": [
    "df.isna().sum()"
   ]
  },
  {
   "cell_type": "code",
   "execution_count": 3,
   "metadata": {},
   "outputs": [
    {
     "name": "stdout",
     "output_type": "stream",
     "text": [
      "<class 'pandas.core.frame.DataFrame'>\n",
      "RangeIndex: 1867 entries, 0 to 1866\n",
      "Data columns (total 10 columns):\n",
      " #   Column    Non-Null Count  Dtype \n",
      "---  ------    --------------  ----- \n",
      " 0   Market    1867 non-null   object\n",
      " 1   Date      1867 non-null   object\n",
      " 2   Grade     1867 non-null   object\n",
      " 3   Arrivals  1867 non-null   int64 \n",
      " 4   Unit      1867 non-null   object\n",
      " 5   Min       1867 non-null   int64 \n",
      " 6   Max       1867 non-null   int64 \n",
      " 7   Modal     1867 non-null   int64 \n",
      " 8   Variety   1867 non-null   object\n",
      " 9   District  1867 non-null   object\n",
      "dtypes: int64(4), object(6)\n",
      "memory usage: 146.0+ KB\n"
     ]
    }
   ],
   "source": [
    "df.info()"
   ]
  },
  {
   "cell_type": "code",
   "execution_count": 4,
   "metadata": {},
   "outputs": [],
   "source": [
    "df_test = df\n",
    "df_test['Date']=pd.to_datetime(df['Date'])"
   ]
  },
  {
   "cell_type": "code",
   "execution_count": 5,
   "metadata": {},
   "outputs": [
    {
     "name": "stdout",
     "output_type": "stream",
     "text": [
      "<class 'pandas.core.frame.DataFrame'>\n",
      "RangeIndex: 1867 entries, 0 to 1866\n",
      "Data columns (total 10 columns):\n",
      " #   Column    Non-Null Count  Dtype         \n",
      "---  ------    --------------  -----         \n",
      " 0   Market    1867 non-null   object        \n",
      " 1   Date      1867 non-null   datetime64[ns]\n",
      " 2   Grade     1867 non-null   object        \n",
      " 3   Arrivals  1867 non-null   int64         \n",
      " 4   Unit      1867 non-null   object        \n",
      " 5   Min       1867 non-null   int64         \n",
      " 6   Max       1867 non-null   int64         \n",
      " 7   Modal     1867 non-null   int64         \n",
      " 8   Variety   1867 non-null   object        \n",
      " 9   District  1867 non-null   object        \n",
      "dtypes: datetime64[ns](1), int64(4), object(5)\n",
      "memory usage: 146.0+ KB\n"
     ]
    }
   ],
   "source": [
    "df_test.info()"
   ]
  },
  {
   "cell_type": "code",
   "execution_count": 6,
   "metadata": {},
   "outputs": [],
   "source": [
    "df_test.sort_values(by='Date',inplace=True)"
   ]
  },
  {
   "cell_type": "code",
   "execution_count": 7,
   "metadata": {},
   "outputs": [
    {
     "data": {
      "text/html": [
       "<div>\n",
       "<style scoped>\n",
       "    .dataframe tbody tr th:only-of-type {\n",
       "        vertical-align: middle;\n",
       "    }\n",
       "\n",
       "    .dataframe tbody tr th {\n",
       "        vertical-align: top;\n",
       "    }\n",
       "\n",
       "    .dataframe thead th {\n",
       "        text-align: right;\n",
       "    }\n",
       "</style>\n",
       "<table border=\"1\" class=\"dataframe\">\n",
       "  <thead>\n",
       "    <tr style=\"text-align: right;\">\n",
       "      <th></th>\n",
       "      <th>Date</th>\n",
       "      <th>Arrivals</th>\n",
       "      <th>Min</th>\n",
       "      <th>Max</th>\n",
       "      <th>Modal</th>\n",
       "    </tr>\n",
       "  </thead>\n",
       "  <tbody>\n",
       "    <tr>\n",
       "      <th>801</th>\n",
       "      <td>2015-01-01</td>\n",
       "      <td>53</td>\n",
       "      <td>8900</td>\n",
       "      <td>16000</td>\n",
       "      <td>14000</td>\n",
       "    </tr>\n",
       "    <tr>\n",
       "      <th>802</th>\n",
       "      <td>2015-01-02</td>\n",
       "      <td>55</td>\n",
       "      <td>8900</td>\n",
       "      <td>16000</td>\n",
       "      <td>14000</td>\n",
       "    </tr>\n",
       "    <tr>\n",
       "      <th>803</th>\n",
       "      <td>2015-01-03</td>\n",
       "      <td>55</td>\n",
       "      <td>8900</td>\n",
       "      <td>16000</td>\n",
       "      <td>14000</td>\n",
       "    </tr>\n",
       "    <tr>\n",
       "      <th>804</th>\n",
       "      <td>2015-01-05</td>\n",
       "      <td>58</td>\n",
       "      <td>8900</td>\n",
       "      <td>16000</td>\n",
       "      <td>14000</td>\n",
       "    </tr>\n",
       "    <tr>\n",
       "      <th>805</th>\n",
       "      <td>2015-01-06</td>\n",
       "      <td>40</td>\n",
       "      <td>8900</td>\n",
       "      <td>16000</td>\n",
       "      <td>14000</td>\n",
       "    </tr>\n",
       "    <tr>\n",
       "      <th>...</th>\n",
       "      <td>...</td>\n",
       "      <td>...</td>\n",
       "      <td>...</td>\n",
       "      <td>...</td>\n",
       "      <td>...</td>\n",
       "    </tr>\n",
       "    <tr>\n",
       "      <th>1862</th>\n",
       "      <td>2022-11-04</td>\n",
       "      <td>263</td>\n",
       "      <td>25000</td>\n",
       "      <td>34000</td>\n",
       "      <td>30000</td>\n",
       "    </tr>\n",
       "    <tr>\n",
       "      <th>1863</th>\n",
       "      <td>2022-11-05</td>\n",
       "      <td>2900</td>\n",
       "      <td>20000</td>\n",
       "      <td>25000</td>\n",
       "      <td>24000</td>\n",
       "    </tr>\n",
       "    <tr>\n",
       "      <th>1864</th>\n",
       "      <td>2022-12-01</td>\n",
       "      <td>35</td>\n",
       "      <td>26000</td>\n",
       "      <td>31000</td>\n",
       "      <td>30800</td>\n",
       "    </tr>\n",
       "    <tr>\n",
       "      <th>1865</th>\n",
       "      <td>2022-12-04</td>\n",
       "      <td>962</td>\n",
       "      <td>22600</td>\n",
       "      <td>30400</td>\n",
       "      <td>27000</td>\n",
       "    </tr>\n",
       "    <tr>\n",
       "      <th>1866</th>\n",
       "      <td>2022-12-05</td>\n",
       "      <td>83</td>\n",
       "      <td>20000</td>\n",
       "      <td>25000</td>\n",
       "      <td>24000</td>\n",
       "    </tr>\n",
       "  </tbody>\n",
       "</table>\n",
       "<p>1867 rows × 5 columns</p>\n",
       "</div>"
      ],
      "text/plain": [
       "           Date  Arrivals    Min    Max  Modal\n",
       "801  2015-01-01        53   8900  16000  14000\n",
       "802  2015-01-02        55   8900  16000  14000\n",
       "803  2015-01-03        55   8900  16000  14000\n",
       "804  2015-01-05        58   8900  16000  14000\n",
       "805  2015-01-06        40   8900  16000  14000\n",
       "...         ...       ...    ...    ...    ...\n",
       "1862 2022-11-04       263  25000  34000  30000\n",
       "1863 2022-11-05      2900  20000  25000  24000\n",
       "1864 2022-12-01        35  26000  31000  30800\n",
       "1865 2022-12-04       962  22600  30400  27000\n",
       "1866 2022-12-05        83  20000  25000  24000\n",
       "\n",
       "[1867 rows x 5 columns]"
      ]
     },
     "execution_count": 7,
     "metadata": {},
     "output_type": "execute_result"
    }
   ],
   "source": [
    "df_test = df[['Date','Arrivals','Min','Max','Modal']]\n",
    "df_test"
   ]
  },
  {
   "cell_type": "code",
   "execution_count": 8,
   "metadata": {},
   "outputs": [
    {
     "data": {
      "text/html": [
       "<div>\n",
       "<style scoped>\n",
       "    .dataframe tbody tr th:only-of-type {\n",
       "        vertical-align: middle;\n",
       "    }\n",
       "\n",
       "    .dataframe tbody tr th {\n",
       "        vertical-align: top;\n",
       "    }\n",
       "\n",
       "    .dataframe thead th {\n",
       "        text-align: right;\n",
       "    }\n",
       "</style>\n",
       "<table border=\"1\" class=\"dataframe\">\n",
       "  <thead>\n",
       "    <tr style=\"text-align: right;\">\n",
       "      <th></th>\n",
       "      <th>Date</th>\n",
       "      <th>Arrivals</th>\n",
       "      <th>Min</th>\n",
       "      <th>Max</th>\n",
       "      <th>Modal</th>\n",
       "    </tr>\n",
       "    <tr>\n",
       "      <th>Date</th>\n",
       "      <th></th>\n",
       "      <th></th>\n",
       "      <th></th>\n",
       "      <th></th>\n",
       "      <th></th>\n",
       "    </tr>\n",
       "  </thead>\n",
       "  <tbody>\n",
       "    <tr>\n",
       "      <th>2015-01-01</th>\n",
       "      <td>2015-01-01</td>\n",
       "      <td>53</td>\n",
       "      <td>8900</td>\n",
       "      <td>16000</td>\n",
       "      <td>14000</td>\n",
       "    </tr>\n",
       "    <tr>\n",
       "      <th>2015-01-02</th>\n",
       "      <td>2015-01-02</td>\n",
       "      <td>55</td>\n",
       "      <td>8900</td>\n",
       "      <td>16000</td>\n",
       "      <td>14000</td>\n",
       "    </tr>\n",
       "    <tr>\n",
       "      <th>2015-01-03</th>\n",
       "      <td>2015-01-03</td>\n",
       "      <td>55</td>\n",
       "      <td>8900</td>\n",
       "      <td>16000</td>\n",
       "      <td>14000</td>\n",
       "    </tr>\n",
       "    <tr>\n",
       "      <th>2015-01-05</th>\n",
       "      <td>2015-01-05</td>\n",
       "      <td>58</td>\n",
       "      <td>8900</td>\n",
       "      <td>16000</td>\n",
       "      <td>14000</td>\n",
       "    </tr>\n",
       "    <tr>\n",
       "      <th>2015-01-06</th>\n",
       "      <td>2015-01-06</td>\n",
       "      <td>40</td>\n",
       "      <td>8900</td>\n",
       "      <td>16000</td>\n",
       "      <td>14000</td>\n",
       "    </tr>\n",
       "    <tr>\n",
       "      <th>...</th>\n",
       "      <td>...</td>\n",
       "      <td>...</td>\n",
       "      <td>...</td>\n",
       "      <td>...</td>\n",
       "      <td>...</td>\n",
       "    </tr>\n",
       "    <tr>\n",
       "      <th>2022-11-04</th>\n",
       "      <td>2022-11-04</td>\n",
       "      <td>263</td>\n",
       "      <td>25000</td>\n",
       "      <td>34000</td>\n",
       "      <td>30000</td>\n",
       "    </tr>\n",
       "    <tr>\n",
       "      <th>2022-11-05</th>\n",
       "      <td>2022-11-05</td>\n",
       "      <td>2900</td>\n",
       "      <td>20000</td>\n",
       "      <td>25000</td>\n",
       "      <td>24000</td>\n",
       "    </tr>\n",
       "    <tr>\n",
       "      <th>2022-12-01</th>\n",
       "      <td>2022-12-01</td>\n",
       "      <td>35</td>\n",
       "      <td>26000</td>\n",
       "      <td>31000</td>\n",
       "      <td>30800</td>\n",
       "    </tr>\n",
       "    <tr>\n",
       "      <th>2022-12-04</th>\n",
       "      <td>2022-12-04</td>\n",
       "      <td>962</td>\n",
       "      <td>22600</td>\n",
       "      <td>30400</td>\n",
       "      <td>27000</td>\n",
       "    </tr>\n",
       "    <tr>\n",
       "      <th>2022-12-05</th>\n",
       "      <td>2022-12-05</td>\n",
       "      <td>83</td>\n",
       "      <td>20000</td>\n",
       "      <td>25000</td>\n",
       "      <td>24000</td>\n",
       "    </tr>\n",
       "  </tbody>\n",
       "</table>\n",
       "<p>1867 rows × 5 columns</p>\n",
       "</div>"
      ],
      "text/plain": [
       "                 Date  Arrivals    Min    Max  Modal\n",
       "Date                                                \n",
       "2015-01-01 2015-01-01        53   8900  16000  14000\n",
       "2015-01-02 2015-01-02        55   8900  16000  14000\n",
       "2015-01-03 2015-01-03        55   8900  16000  14000\n",
       "2015-01-05 2015-01-05        58   8900  16000  14000\n",
       "2015-01-06 2015-01-06        40   8900  16000  14000\n",
       "...               ...       ...    ...    ...    ...\n",
       "2022-11-04 2022-11-04       263  25000  34000  30000\n",
       "2022-11-05 2022-11-05      2900  20000  25000  24000\n",
       "2022-12-01 2022-12-01        35  26000  31000  30800\n",
       "2022-12-04 2022-12-04       962  22600  30400  27000\n",
       "2022-12-05 2022-12-05        83  20000  25000  24000\n",
       "\n",
       "[1867 rows x 5 columns]"
      ]
     },
     "execution_count": 8,
     "metadata": {},
     "output_type": "execute_result"
    }
   ],
   "source": [
    "df_test.index = df_test['Date']\n",
    "df_test"
   ]
  },
  {
   "cell_type": "code",
   "execution_count": 9,
   "metadata": {},
   "outputs": [
    {
     "name": "stderr",
     "output_type": "stream",
     "text": [
      "C:\\Users\\SUJAN ACHARYA\\AppData\\Local\\Temp\\ipykernel_18724\\1244294919.py:1: SettingWithCopyWarning: \n",
      "A value is trying to be set on a copy of a slice from a DataFrame\n",
      "\n",
      "See the caveats in the documentation: https://pandas.pydata.org/pandas-docs/stable/user_guide/indexing.html#returning-a-view-versus-a-copy\n",
      "  df_test.drop('Date',axis=1,inplace=True)\n"
     ]
    },
    {
     "data": {
      "text/html": [
       "<div>\n",
       "<style scoped>\n",
       "    .dataframe tbody tr th:only-of-type {\n",
       "        vertical-align: middle;\n",
       "    }\n",
       "\n",
       "    .dataframe tbody tr th {\n",
       "        vertical-align: top;\n",
       "    }\n",
       "\n",
       "    .dataframe thead th {\n",
       "        text-align: right;\n",
       "    }\n",
       "</style>\n",
       "<table border=\"1\" class=\"dataframe\">\n",
       "  <thead>\n",
       "    <tr style=\"text-align: right;\">\n",
       "      <th></th>\n",
       "      <th>Arrivals</th>\n",
       "      <th>Min</th>\n",
       "      <th>Max</th>\n",
       "      <th>Modal</th>\n",
       "    </tr>\n",
       "    <tr>\n",
       "      <th>Date</th>\n",
       "      <th></th>\n",
       "      <th></th>\n",
       "      <th></th>\n",
       "      <th></th>\n",
       "    </tr>\n",
       "  </thead>\n",
       "  <tbody>\n",
       "    <tr>\n",
       "      <th>2015-01-01</th>\n",
       "      <td>53</td>\n",
       "      <td>8900</td>\n",
       "      <td>16000</td>\n",
       "      <td>14000</td>\n",
       "    </tr>\n",
       "    <tr>\n",
       "      <th>2015-01-02</th>\n",
       "      <td>55</td>\n",
       "      <td>8900</td>\n",
       "      <td>16000</td>\n",
       "      <td>14000</td>\n",
       "    </tr>\n",
       "    <tr>\n",
       "      <th>2015-01-03</th>\n",
       "      <td>55</td>\n",
       "      <td>8900</td>\n",
       "      <td>16000</td>\n",
       "      <td>14000</td>\n",
       "    </tr>\n",
       "    <tr>\n",
       "      <th>2015-01-05</th>\n",
       "      <td>58</td>\n",
       "      <td>8900</td>\n",
       "      <td>16000</td>\n",
       "      <td>14000</td>\n",
       "    </tr>\n",
       "    <tr>\n",
       "      <th>2015-01-06</th>\n",
       "      <td>40</td>\n",
       "      <td>8900</td>\n",
       "      <td>16000</td>\n",
       "      <td>14000</td>\n",
       "    </tr>\n",
       "    <tr>\n",
       "      <th>...</th>\n",
       "      <td>...</td>\n",
       "      <td>...</td>\n",
       "      <td>...</td>\n",
       "      <td>...</td>\n",
       "    </tr>\n",
       "    <tr>\n",
       "      <th>2022-11-04</th>\n",
       "      <td>263</td>\n",
       "      <td>25000</td>\n",
       "      <td>34000</td>\n",
       "      <td>30000</td>\n",
       "    </tr>\n",
       "    <tr>\n",
       "      <th>2022-11-05</th>\n",
       "      <td>2900</td>\n",
       "      <td>20000</td>\n",
       "      <td>25000</td>\n",
       "      <td>24000</td>\n",
       "    </tr>\n",
       "    <tr>\n",
       "      <th>2022-12-01</th>\n",
       "      <td>35</td>\n",
       "      <td>26000</td>\n",
       "      <td>31000</td>\n",
       "      <td>30800</td>\n",
       "    </tr>\n",
       "    <tr>\n",
       "      <th>2022-12-04</th>\n",
       "      <td>962</td>\n",
       "      <td>22600</td>\n",
       "      <td>30400</td>\n",
       "      <td>27000</td>\n",
       "    </tr>\n",
       "    <tr>\n",
       "      <th>2022-12-05</th>\n",
       "      <td>83</td>\n",
       "      <td>20000</td>\n",
       "      <td>25000</td>\n",
       "      <td>24000</td>\n",
       "    </tr>\n",
       "  </tbody>\n",
       "</table>\n",
       "<p>1867 rows × 4 columns</p>\n",
       "</div>"
      ],
      "text/plain": [
       "            Arrivals    Min    Max  Modal\n",
       "Date                                     \n",
       "2015-01-01        53   8900  16000  14000\n",
       "2015-01-02        55   8900  16000  14000\n",
       "2015-01-03        55   8900  16000  14000\n",
       "2015-01-05        58   8900  16000  14000\n",
       "2015-01-06        40   8900  16000  14000\n",
       "...              ...    ...    ...    ...\n",
       "2022-11-04       263  25000  34000  30000\n",
       "2022-11-05      2900  20000  25000  24000\n",
       "2022-12-01        35  26000  31000  30800\n",
       "2022-12-04       962  22600  30400  27000\n",
       "2022-12-05        83  20000  25000  24000\n",
       "\n",
       "[1867 rows x 4 columns]"
      ]
     },
     "execution_count": 9,
     "metadata": {},
     "output_type": "execute_result"
    }
   ],
   "source": [
    "df_test.drop('Date',axis=1,inplace=True)\n",
    "df_test"
   ]
  },
  {
   "cell_type": "code",
   "execution_count": 10,
   "metadata": {},
   "outputs": [
    {
     "data": {
      "image/png": "[encoded data removed]",
      "text/plain": [
       "<Figure size 2000x400 with 1 Axes>"
      ]
     },
     "metadata": {},
     "output_type": "display_data"
    }
   ],
   "source": [
    "plt.figure(figsize=(20,4))\n",
    "plt.plot(df_test['Modal'])\n",
    "plt.title('Arecanut (Coca) trend')\n",
    "plt.show()"
   ]
  },
  {
   "cell_type": "code",
   "execution_count": 11,
   "metadata": {},
   "outputs": [],
   "source": [
    "from sklearn.preprocessing import MinMaxScaler\n",
    "\n",
    "scaler_coca = MinMaxScaler(feature_range=(0,1))"
   ]
  },
  {
   "cell_type": "code",
   "execution_count": 12,
   "metadata": {},
   "outputs": [
    {
     "name": "stderr",
     "output_type": "stream",
     "text": [
      "C:\\Users\\SUJAN ACHARYA\\AppData\\Local\\Temp\\ipykernel_18724\\177490449.py:5: SettingWithCopyWarning: \n",
      "A value is trying to be set on a copy of a slice from a DataFrame.\n",
      "Try using .loc[row_indexer,col_indexer] = value instead\n",
      "\n",
      "See the caveats in the documentation: https://pandas.pydata.org/pandas-docs/stable/user_guide/indexing.html#returning-a-view-versus-a-copy\n",
      "  df_test[columns_to_scale] = scaler_coca.fit_transform(df_test[columns_to_scale])\n"
     ]
    }
   ],
   "source": [
    "# Define the columns you want to scale\n",
    "columns_to_scale = ['Arrivals', 'Min', 'Max', 'Modal']\n",
    "\n",
    "# Apply MinMaxScaler to the selected columns\n",
    "df_test[columns_to_scale] = scaler_coca.fit_transform(df_test[columns_to_scale])"
   ]
  },
  {
   "cell_type": "code",
   "execution_count": 13,
   "metadata": {},
   "outputs": [
    {
     "data": {
      "text/html": [
       "<div>\n",
       "<style scoped>\n",
       "    .dataframe tbody tr th:only-of-type {\n",
       "        vertical-align: middle;\n",
       "    }\n",
       "\n",
       "    .dataframe tbody tr th {\n",
       "        vertical-align: top;\n",
       "    }\n",
       "\n",
       "    .dataframe thead th {\n",
       "        text-align: right;\n",
       "    }\n",
       "</style>\n",
       "<table border=\"1\" class=\"dataframe\">\n",
       "  <thead>\n",
       "    <tr style=\"text-align: right;\">\n",
       "      <th></th>\n",
       "      <th>Arrivals</th>\n",
       "      <th>Min</th>\n",
       "      <th>Max</th>\n",
       "      <th>Modal</th>\n",
       "    </tr>\n",
       "    <tr>\n",
       "      <th>Date</th>\n",
       "      <th></th>\n",
       "      <th></th>\n",
       "      <th></th>\n",
       "      <th></th>\n",
       "    </tr>\n",
       "  </thead>\n",
       "  <tbody>\n",
       "    <tr>\n",
       "      <th>2015-01-01</th>\n",
       "      <td>0.001429</td>\n",
       "      <td>0.194301</td>\n",
       "      <td>0.026455</td>\n",
       "      <td>0.268817</td>\n",
       "    </tr>\n",
       "    <tr>\n",
       "      <th>2015-01-02</th>\n",
       "      <td>0.001486</td>\n",
       "      <td>0.194301</td>\n",
       "      <td>0.026455</td>\n",
       "      <td>0.268817</td>\n",
       "    </tr>\n",
       "    <tr>\n",
       "      <th>2015-01-03</th>\n",
       "      <td>0.001486</td>\n",
       "      <td>0.194301</td>\n",
       "      <td>0.026455</td>\n",
       "      <td>0.268817</td>\n",
       "    </tr>\n",
       "    <tr>\n",
       "      <th>2015-01-05</th>\n",
       "      <td>0.001572</td>\n",
       "      <td>0.194301</td>\n",
       "      <td>0.026455</td>\n",
       "      <td>0.268817</td>\n",
       "    </tr>\n",
       "    <tr>\n",
       "      <th>2015-01-06</th>\n",
       "      <td>0.001057</td>\n",
       "      <td>0.194301</td>\n",
       "      <td>0.026455</td>\n",
       "      <td>0.268817</td>\n",
       "    </tr>\n",
       "    <tr>\n",
       "      <th>...</th>\n",
       "      <td>...</td>\n",
       "      <td>...</td>\n",
       "      <td>...</td>\n",
       "      <td>...</td>\n",
       "    </tr>\n",
       "    <tr>\n",
       "      <th>2022-11-04</th>\n",
       "      <td>0.007429</td>\n",
       "      <td>0.611399</td>\n",
       "      <td>0.502646</td>\n",
       "      <td>0.612903</td>\n",
       "    </tr>\n",
       "    <tr>\n",
       "      <th>2022-11-05</th>\n",
       "      <td>0.082779</td>\n",
       "      <td>0.481865</td>\n",
       "      <td>0.264550</td>\n",
       "      <td>0.483871</td>\n",
       "    </tr>\n",
       "    <tr>\n",
       "      <th>2022-12-01</th>\n",
       "      <td>0.000914</td>\n",
       "      <td>0.637306</td>\n",
       "      <td>0.423280</td>\n",
       "      <td>0.630108</td>\n",
       "    </tr>\n",
       "    <tr>\n",
       "      <th>2022-12-04</th>\n",
       "      <td>0.027402</td>\n",
       "      <td>0.549223</td>\n",
       "      <td>0.407407</td>\n",
       "      <td>0.548387</td>\n",
       "    </tr>\n",
       "    <tr>\n",
       "      <th>2022-12-05</th>\n",
       "      <td>0.002286</td>\n",
       "      <td>0.481865</td>\n",
       "      <td>0.264550</td>\n",
       "      <td>0.483871</td>\n",
       "    </tr>\n",
       "  </tbody>\n",
       "</table>\n",
       "<p>1867 rows × 4 columns</p>\n",
       "</div>"
      ],
      "text/plain": [
       "            Arrivals       Min       Max     Modal\n",
       "Date                                              \n",
       "2015-01-01  0.001429  0.194301  0.026455  0.268817\n",
       "2015-01-02  0.001486  0.194301  0.026455  0.268817\n",
       "2015-01-03  0.001486  0.194301  0.026455  0.268817\n",
       "2015-01-05  0.001572  0.194301  0.026455  0.268817\n",
       "2015-01-06  0.001057  0.194301  0.026455  0.268817\n",
       "...              ...       ...       ...       ...\n",
       "2022-11-04  0.007429  0.611399  0.502646  0.612903\n",
       "2022-11-05  0.082779  0.481865  0.264550  0.483871\n",
       "2022-12-01  0.000914  0.637306  0.423280  0.630108\n",
       "2022-12-04  0.027402  0.549223  0.407407  0.548387\n",
       "2022-12-05  0.002286  0.481865  0.264550  0.483871\n",
       "\n",
       "[1867 rows x 4 columns]"
      ]
     },
     "execution_count": 13,
     "metadata": {},
     "output_type": "execute_result"
    }
   ],
   "source": [
    "df_test"
   ]
  },
  {
   "cell_type": "code",
   "execution_count": 14,
   "metadata": {},
   "outputs": [],
   "source": [
    "def df_to_X_y(df, window_size=1):\n",
    "    df_as_np = df.to_numpy()\n",
    "    X = []\n",
    "    y = []\n",
    "    for i in range(len(df_as_np) - window_size):\n",
    "        row = [r for r in df_as_np[i:i+window_size]]\n",
    "        X.append(row)\n",
    "        label = df_as_np[i+window_size][1], df_as_np[i+window_size][2], df_as_np[i+window_size][3] \n",
    "        y.append(label)\n",
    "    return np.array(X), np.array(y)"
   ]
  },
  {
   "cell_type": "code",
   "execution_count": 19,
   "metadata": {},
   "outputs": [
    {
     "data": {
      "text/plain": [
       "((1857, 10, 4), (1857, 3))"
      ]
     },
     "execution_count": 19,
     "metadata": {},
     "output_type": "execute_result"
    }
   ],
   "source": [
    "WINDOW_SIZE = 10 \n",
    "X_coca, y_coca= df_to_X_y(df_test,WINDOW_SIZE)\n",
    "X_coca.shape, y_coca.shape"
   ]
  },
  {
   "cell_type": "code",
   "execution_count": 20,
   "metadata": {},
   "outputs": [
    {
     "name": "stdout",
     "output_type": "stream",
     "text": [
      "1493 261 113\n"
     ]
    }
   ],
   "source": [
    "train_size = int(len(df_test)*0.8)\n",
    "val_size = int((len(df_test) - train_size)*0.7)\n",
    "test_size = len(df_test) - (train_size + val_size)\n",
    "\n",
    "print(train_size, val_size ,test_size)"
   ]
  },
  {
   "cell_type": "code",
   "execution_count": 21,
   "metadata": {},
   "outputs": [],
   "source": [
    "X_train, y_train = X_coca[:1500], y_coca[:1500]\n",
    "X_val, y_val = X_coca[1500:1800], y_coca[1500:1800]\n",
    "X_test, y_tesst = X_coca[1800:] ,y_coca[1800:] "
   ]
  },
  {
   "cell_type": "code",
   "execution_count": 22,
   "metadata": {},
   "outputs": [
    {
     "data": {
      "text/plain": [
       "((1500, 10, 4), (1500, 3), (300, 10, 4), (300, 3), (57, 10, 4), (57, 3))"
      ]
     },
     "execution_count": 22,
     "metadata": {},
     "output_type": "execute_result"
    }
   ],
   "source": [
    "X_train.shape, y_train.shape, X_val.shape, y_val.shape, X_test.shape, y_tesst.shape"
   ]
  },
  {
   "cell_type": "code",
   "execution_count": 15,
   "metadata": {},
   "outputs": [],
   "source": [
    "from tensorflow.keras.models import Sequential\n",
    "from tensorflow.keras.layers import InputLayer, LSTM, Dense,Conv1D, Flatten\n",
    "from tensorflow.keras.callbacks import ModelCheckpoint\n",
    "from tensorflow.keras.losses import MeanSquaredError, MeanAbsoluteError\n",
    "from tensorflow.keras.metrics import RootMeanSquaredError\n",
    "from tensorflow.keras.optimizers import Adam"
   ]
  },
  {
   "cell_type": "code",
   "execution_count": 16,
   "metadata": {},
   "outputs": [
    {
     "name": "stdout",
     "output_type": "stream",
     "text": [
      "Model: \"sequential\"\n",
      "_________________________________________________________________\n",
      " Layer (type)                Output Shape              Param #   \n",
      "=================================================================\n",
      " lstm (LSTM)                 (None, 64)                17664     \n",
      "                                                                 \n",
      " dense (Dense)               (None, 64)                4160      \n",
      "                                                                 \n",
      " dense_1 (Dense)             (None, 30)                1950      \n",
      "                                                                 \n",
      " dense_2 (Dense)             (None, 3)                 93        \n",
      "                                                                 \n",
      "=================================================================\n",
      "Total params: 23867 (93.23 KB)\n",
      "Trainable params: 23867 (93.23 KB)\n",
      "Non-trainable params: 0 (0.00 Byte)\n",
      "_________________________________________________________________\n"
     ]
    }
   ],
   "source": [
    "model_coca= Sequential()\n",
    "model_coca.add(InputLayer((10,4))),\n",
    "model_coca.add(LSTM(64)),\n",
    "model_coca.add(Dense(64, 'relu')),\n",
    "model_coca.add(Dense(30, 'relu')),\n",
    "model_coca.add(Dense(3))\n",
    "\n",
    "model_coca.summary()"
   ]
  },
  {
   "cell_type": "code",
   "execution_count": 17,
   "metadata": {},
   "outputs": [],
   "source": [
    "model_coca.compile(loss=MeanSquaredError(), optimizer=Adam(learning_rate=0.0001), metrics=[MeanAbsoluteError()])"
   ]
  },
  {
   "cell_type": "code",
   "execution_count": 23,
   "metadata": {},
   "outputs": [
    {
     "name": "stdout",
     "output_type": "stream",
     "text": [
      "Epoch 1/50\n",
      "47/47 - 3s - loss: 0.0364 - mean_absolute_error: 0.1714 - val_loss: 0.1274 - val_mean_absolute_error: 0.3272 - 3s/epoch - 69ms/step\n",
      "Epoch 2/50\n",
      "47/47 - 0s - loss: 0.0091 - mean_absolute_error: 0.0753 - val_loss: 0.0394 - val_mean_absolute_error: 0.1414 - 466ms/epoch - 10ms/step\n",
      "Epoch 3/50\n",
      "47/47 - 0s - loss: 0.0017 - mean_absolute_error: 0.0296 - val_loss: 0.0324 - val_mean_absolute_error: 0.1234 - 472ms/epoch - 10ms/step\n",
      "Epoch 4/50\n",
      "47/47 - 0s - loss: 0.0016 - mean_absolute_error: 0.0283 - val_loss: 0.0301 - val_mean_absolute_error: 0.1182 - 445ms/epoch - 9ms/step\n",
      "Epoch 5/50\n",
      "47/47 - 0s - loss: 0.0015 - mean_absolute_error: 0.0274 - val_loss: 0.0284 - val_mean_absolute_error: 0.1139 - 473ms/epoch - 10ms/step\n",
      "Epoch 6/50\n",
      "47/47 - 0s - loss: 0.0014 - mean_absolute_error: 0.0264 - val_loss: 0.0264 - val_mean_absolute_error: 0.1093 - 396ms/epoch - 8ms/step\n",
      "Epoch 7/50\n",
      "47/47 - 0s - loss: 0.0013 - mean_absolute_error: 0.0253 - val_loss: 0.0245 - val_mean_absolute_error: 0.1046 - 377ms/epoch - 8ms/step\n",
      "Epoch 8/50\n",
      "47/47 - 0s - loss: 0.0012 - mean_absolute_error: 0.0242 - val_loss: 0.0233 - val_mean_absolute_error: 0.1016 - 387ms/epoch - 8ms/step\n",
      "Epoch 9/50\n",
      "47/47 - 0s - loss: 0.0011 - mean_absolute_error: 0.0231 - val_loss: 0.0214 - val_mean_absolute_error: 0.0973 - 398ms/epoch - 8ms/step\n",
      "Epoch 10/50\n",
      "47/47 - 0s - loss: 0.0010 - mean_absolute_error: 0.0221 - val_loss: 0.0208 - val_mean_absolute_error: 0.0958 - 366ms/epoch - 8ms/step\n",
      "Epoch 11/50\n",
      "47/47 - 1s - loss: 9.7521e-04 - mean_absolute_error: 0.0210 - val_loss: 0.0200 - val_mean_absolute_error: 0.0945 - 502ms/epoch - 11ms/step\n",
      "Epoch 12/50\n",
      "47/47 - 0s - loss: 9.2214e-04 - mean_absolute_error: 0.0200 - val_loss: 0.0196 - val_mean_absolute_error: 0.0945 - 488ms/epoch - 10ms/step\n",
      "Epoch 13/50\n",
      "47/47 - 0s - loss: 8.8091e-04 - mean_absolute_error: 0.0192 - val_loss: 0.0198 - val_mean_absolute_error: 0.0955 - 447ms/epoch - 10ms/step\n",
      "Epoch 14/50\n",
      "47/47 - 0s - loss: 8.5364e-04 - mean_absolute_error: 0.0186 - val_loss: 0.0201 - val_mean_absolute_error: 0.0976 - 441ms/epoch - 9ms/step\n",
      "Epoch 15/50\n",
      "47/47 - 0s - loss: 8.2864e-04 - mean_absolute_error: 0.0178 - val_loss: 0.0201 - val_mean_absolute_error: 0.0978 - 423ms/epoch - 9ms/step\n",
      "Epoch 16/50\n",
      "47/47 - 0s - loss: 8.0779e-04 - mean_absolute_error: 0.0173 - val_loss: 0.0205 - val_mean_absolute_error: 0.0993 - 423ms/epoch - 9ms/step\n",
      "Epoch 17/50\n",
      "47/47 - 1s - loss: 7.9025e-04 - mean_absolute_error: 0.0168 - val_loss: 0.0205 - val_mean_absolute_error: 0.0999 - 509ms/epoch - 11ms/step\n",
      "Epoch 18/50\n",
      "47/47 - 1s - loss: 7.7485e-04 - mean_absolute_error: 0.0162 - val_loss: 0.0204 - val_mean_absolute_error: 0.0997 - 512ms/epoch - 11ms/step\n",
      "Epoch 19/50\n",
      "47/47 - 0s - loss: 7.6840e-04 - mean_absolute_error: 0.0159 - val_loss: 0.0206 - val_mean_absolute_error: 0.1007 - 428ms/epoch - 9ms/step\n",
      "Epoch 20/50\n",
      "47/47 - 1s - loss: 7.4589e-04 - mean_absolute_error: 0.0152 - val_loss: 0.0205 - val_mean_absolute_error: 0.0997 - 502ms/epoch - 11ms/step\n",
      "Epoch 21/50\n",
      "47/47 - 0s - loss: 7.3041e-04 - mean_absolute_error: 0.0149 - val_loss: 0.0204 - val_mean_absolute_error: 0.0991 - 406ms/epoch - 9ms/step\n",
      "Epoch 22/50\n",
      "47/47 - 0s - loss: 7.2470e-04 - mean_absolute_error: 0.0144 - val_loss: 0.0202 - val_mean_absolute_error: 0.0992 - 419ms/epoch - 9ms/step\n",
      "Epoch 23/50\n",
      "47/47 - 0s - loss: 7.2016e-04 - mean_absolute_error: 0.0142 - val_loss: 0.0204 - val_mean_absolute_error: 0.0999 - 390ms/epoch - 8ms/step\n",
      "Epoch 24/50\n",
      "47/47 - 0s - loss: 7.0594e-04 - mean_absolute_error: 0.0138 - val_loss: 0.0204 - val_mean_absolute_error: 0.1000 - 367ms/epoch - 8ms/step\n",
      "Epoch 25/50\n",
      "47/47 - 0s - loss: 7.0142e-04 - mean_absolute_error: 0.0134 - val_loss: 0.0204 - val_mean_absolute_error: 0.1001 - 335ms/epoch - 7ms/step\n",
      "Epoch 26/50\n",
      "47/47 - 0s - loss: 6.9802e-04 - mean_absolute_error: 0.0133 - val_loss: 0.0203 - val_mean_absolute_error: 0.1000 - 363ms/epoch - 8ms/step\n",
      "Epoch 27/50\n",
      "47/47 - 0s - loss: 6.9320e-04 - mean_absolute_error: 0.0130 - val_loss: 0.0203 - val_mean_absolute_error: 0.0993 - 399ms/epoch - 8ms/step\n",
      "Epoch 28/50\n",
      "47/47 - 0s - loss: 6.9097e-04 - mean_absolute_error: 0.0130 - val_loss: 0.0200 - val_mean_absolute_error: 0.0987 - 418ms/epoch - 9ms/step\n",
      "Epoch 29/50\n",
      "47/47 - 0s - loss: 6.8332e-04 - mean_absolute_error: 0.0126 - val_loss: 0.0202 - val_mean_absolute_error: 0.0989 - 380ms/epoch - 8ms/step\n",
      "Epoch 30/50\n",
      "47/47 - 0s - loss: 6.7421e-04 - mean_absolute_error: 0.0124 - val_loss: 0.0203 - val_mean_absolute_error: 0.1002 - 368ms/epoch - 8ms/step\n",
      "Epoch 31/50\n",
      "47/47 - 0s - loss: 6.7430e-04 - mean_absolute_error: 0.0122 - val_loss: 0.0203 - val_mean_absolute_error: 0.0992 - 353ms/epoch - 8ms/step\n",
      "Epoch 32/50\n",
      "47/47 - 0s - loss: 6.7501e-04 - mean_absolute_error: 0.0123 - val_loss: 0.0201 - val_mean_absolute_error: 0.0986 - 405ms/epoch - 9ms/step\n",
      "Epoch 33/50\n",
      "47/47 - 0s - loss: 6.7747e-04 - mean_absolute_error: 0.0122 - val_loss: 0.0206 - val_mean_absolute_error: 0.1005 - 416ms/epoch - 9ms/step\n",
      "Epoch 34/50\n",
      "47/47 - 0s - loss: 6.7344e-04 - mean_absolute_error: 0.0122 - val_loss: 0.0201 - val_mean_absolute_error: 0.0993 - 477ms/epoch - 10ms/step\n",
      "Epoch 35/50\n",
      "47/47 - 0s - loss: 6.6670e-04 - mean_absolute_error: 0.0118 - val_loss: 0.0200 - val_mean_absolute_error: 0.0980 - 420ms/epoch - 9ms/step\n",
      "Epoch 36/50\n",
      "47/47 - 0s - loss: 6.6924e-04 - mean_absolute_error: 0.0120 - val_loss: 0.0201 - val_mean_absolute_error: 0.0986 - 392ms/epoch - 8ms/step\n",
      "Epoch 37/50\n",
      "47/47 - 0s - loss: 6.6391e-04 - mean_absolute_error: 0.0116 - val_loss: 0.0201 - val_mean_absolute_error: 0.0992 - 413ms/epoch - 9ms/step\n",
      "Epoch 38/50\n",
      "47/47 - 0s - loss: 6.7107e-04 - mean_absolute_error: 0.0121 - val_loss: 0.0200 - val_mean_absolute_error: 0.0982 - 388ms/epoch - 8ms/step\n",
      "Epoch 39/50\n",
      "47/47 - 0s - loss: 6.6040e-04 - mean_absolute_error: 0.0116 - val_loss: 0.0204 - val_mean_absolute_error: 0.1000 - 346ms/epoch - 7ms/step\n",
      "Epoch 40/50\n",
      "47/47 - 0s - loss: 6.6063e-04 - mean_absolute_error: 0.0118 - val_loss: 0.0202 - val_mean_absolute_error: 0.0989 - 362ms/epoch - 8ms/step\n",
      "Epoch 41/50\n",
      "47/47 - 0s - loss: 6.5936e-04 - mean_absolute_error: 0.0114 - val_loss: 0.0201 - val_mean_absolute_error: 0.0988 - 394ms/epoch - 8ms/step\n",
      "Epoch 42/50\n",
      "47/47 - 0s - loss: 6.5660e-04 - mean_absolute_error: 0.0113 - val_loss: 0.0201 - val_mean_absolute_error: 0.0987 - 452ms/epoch - 10ms/step\n",
      "Epoch 43/50\n",
      "47/47 - 0s - loss: 6.4898e-04 - mean_absolute_error: 0.0114 - val_loss: 0.0202 - val_mean_absolute_error: 0.0993 - 358ms/epoch - 8ms/step\n",
      "Epoch 44/50\n",
      "47/47 - 0s - loss: 6.5438e-04 - mean_absolute_error: 0.0115 - val_loss: 0.0204 - val_mean_absolute_error: 0.1004 - 366ms/epoch - 8ms/step\n",
      "Epoch 45/50\n",
      "47/47 - 0s - loss: 6.5961e-04 - mean_absolute_error: 0.0113 - val_loss: 0.0200 - val_mean_absolute_error: 0.0984 - 337ms/epoch - 7ms/step\n",
      "Epoch 46/50\n",
      "47/47 - 0s - loss: 6.4947e-04 - mean_absolute_error: 0.0111 - val_loss: 0.0198 - val_mean_absolute_error: 0.0972 - 436ms/epoch - 9ms/step\n",
      "Epoch 47/50\n",
      "47/47 - 0s - loss: 6.5059e-04 - mean_absolute_error: 0.0112 - val_loss: 0.0199 - val_mean_absolute_error: 0.0976 - 364ms/epoch - 8ms/step\n",
      "Epoch 48/50\n",
      "47/47 - 0s - loss: 6.4644e-04 - mean_absolute_error: 0.0110 - val_loss: 0.0202 - val_mean_absolute_error: 0.0992 - 379ms/epoch - 8ms/step\n",
      "Epoch 49/50\n",
      "47/47 - 0s - loss: 6.4869e-04 - mean_absolute_error: 0.0111 - val_loss: 0.0201 - val_mean_absolute_error: 0.0977 - 372ms/epoch - 8ms/step\n",
      "Epoch 50/50\n",
      "47/47 - 0s - loss: 6.4549e-04 - mean_absolute_error: 0.0110 - val_loss: 0.0201 - val_mean_absolute_error: 0.0978 - 408ms/epoch - 9ms/step\n"
     ]
    }
   ],
   "source": [
    "hist_coca = model_coca.fit(X_train, y_train, validation_data=(X_val, y_val), epochs=50, verbose=2)"
   ]
  },
  {
   "cell_type": "code",
   "execution_count": 24,
   "metadata": {},
   "outputs": [
    {
     "data": {
      "image/png": "[encoded data removed]",
      "text/plain": [
       "<Figure size 1000x600 with 1 Axes>"
      ]
     },
     "metadata": {},
     "output_type": "display_data"
    }
   ],
   "source": [
    "g = plt.figure(figsize=(10,6))\n",
    "plt.plot(hist_coca.history['loss'],color = 'teal',label = 'loss')\n",
    "plt.plot(hist_coca.history['val_loss'],color='orange',label='val_loss')\n",
    "plt.suptitle('Loss', fontsize=20)\n",
    "plt.legend(loc='upper right')\n",
    "plt.show()"
   ]
  },
  {
   "cell_type": "code",
   "execution_count": 36,
   "metadata": {},
   "outputs": [],
   "source": [
    "model_coca.save('./models/Coca/model_coca.h5')"
   ]
  },
  {
   "cell_type": "code",
   "execution_count": 25,
   "metadata": {},
   "outputs": [],
   "source": [
    "train_prediction = model_coca.predict(X_train, verbose=0)"
   ]
  },
  {
   "cell_type": "code",
   "execution_count": 26,
   "metadata": {},
   "outputs": [
    {
     "data": {
      "text/plain": [
       "(1500, 3)"
      ]
     },
     "execution_count": 26,
     "metadata": {},
     "output_type": "execute_result"
    }
   ],
   "source": [
    "train_prediction.shape"
   ]
  },
  {
   "cell_type": "code",
   "execution_count": 27,
   "metadata": {},
   "outputs": [
    {
     "data": {
      "text/plain": [
       "(1500, 3)"
      ]
     },
     "execution_count": 27,
     "metadata": {},
     "output_type": "execute_result"
    }
   ],
   "source": [
    "y_train.shape"
   ]
  },
  {
   "cell_type": "code",
   "execution_count": 28,
   "metadata": {},
   "outputs": [],
   "source": [
    "train_results = pd.DataFrame({'Train_prediction_Min': train_prediction[:, 0],\n",
    "                                'Actual_Min': y_train[:, 0],\n",
    "                              'Train_prediction_Max': train_prediction[:, 1],\n",
    "                                'Actual_Max': y_train[:, 1],\n",
    "                              'Train_prediction_Modal': train_prediction[:, 2],\n",
    "                                'Actual_Modal': y_train[:, 2]})"
   ]
  },
  {
   "cell_type": "code",
   "execution_count": 29,
   "metadata": {},
   "outputs": [
    {
     "data": {
      "text/html": [
       "<div>\n",
       "<style scoped>\n",
       "    .dataframe tbody tr th:only-of-type {\n",
       "        vertical-align: middle;\n",
       "    }\n",
       "\n",
       "    .dataframe tbody tr th {\n",
       "        vertical-align: top;\n",
       "    }\n",
       "\n",
       "    .dataframe thead th {\n",
       "        text-align: right;\n",
       "    }\n",
       "</style>\n",
       "<table border=\"1\" class=\"dataframe\">\n",
       "  <thead>\n",
       "    <tr style=\"text-align: right;\">\n",
       "      <th></th>\n",
       "      <th>Train_prediction_Min</th>\n",
       "      <th>Actual_Min</th>\n",
       "      <th>Train_prediction_Max</th>\n",
       "      <th>Actual_Max</th>\n",
       "      <th>Train_prediction_Modal</th>\n",
       "      <th>Actual_Modal</th>\n",
       "    </tr>\n",
       "  </thead>\n",
       "  <tbody>\n",
       "    <tr>\n",
       "      <th>0</th>\n",
       "      <td>0.196014</td>\n",
       "      <td>0.194301</td>\n",
       "      <td>0.031172</td>\n",
       "      <td>0.026455</td>\n",
       "      <td>0.263405</td>\n",
       "      <td>0.258065</td>\n",
       "    </tr>\n",
       "    <tr>\n",
       "      <th>1</th>\n",
       "      <td>0.196000</td>\n",
       "      <td>0.194301</td>\n",
       "      <td>0.030982</td>\n",
       "      <td>0.039683</td>\n",
       "      <td>0.262446</td>\n",
       "      <td>0.268817</td>\n",
       "    </tr>\n",
       "    <tr>\n",
       "      <th>2</th>\n",
       "      <td>0.195825</td>\n",
       "      <td>0.194301</td>\n",
       "      <td>0.033168</td>\n",
       "      <td>0.039683</td>\n",
       "      <td>0.263438</td>\n",
       "      <td>0.268817</td>\n",
       "    </tr>\n",
       "    <tr>\n",
       "      <th>3</th>\n",
       "      <td>0.195764</td>\n",
       "      <td>0.194301</td>\n",
       "      <td>0.035008</td>\n",
       "      <td>0.039683</td>\n",
       "      <td>0.264138</td>\n",
       "      <td>0.268817</td>\n",
       "    </tr>\n",
       "    <tr>\n",
       "      <th>4</th>\n",
       "      <td>0.195786</td>\n",
       "      <td>0.191710</td>\n",
       "      <td>0.036621</td>\n",
       "      <td>0.039683</td>\n",
       "      <td>0.264700</td>\n",
       "      <td>0.279570</td>\n",
       "    </tr>\n",
       "    <tr>\n",
       "      <th>...</th>\n",
       "      <td>...</td>\n",
       "      <td>...</td>\n",
       "      <td>...</td>\n",
       "      <td>...</td>\n",
       "      <td>...</td>\n",
       "      <td>...</td>\n",
       "    </tr>\n",
       "    <tr>\n",
       "      <th>1495</th>\n",
       "      <td>0.503876</td>\n",
       "      <td>0.378238</td>\n",
       "      <td>0.299972</td>\n",
       "      <td>0.317460</td>\n",
       "      <td>0.484455</td>\n",
       "      <td>0.526882</td>\n",
       "    </tr>\n",
       "    <tr>\n",
       "      <th>1496</th>\n",
       "      <td>0.486227</td>\n",
       "      <td>0.585492</td>\n",
       "      <td>0.304307</td>\n",
       "      <td>0.343915</td>\n",
       "      <td>0.484230</td>\n",
       "      <td>0.526882</td>\n",
       "    </tr>\n",
       "    <tr>\n",
       "      <th>1497</th>\n",
       "      <td>0.491365</td>\n",
       "      <td>0.481865</td>\n",
       "      <td>0.305549</td>\n",
       "      <td>0.343915</td>\n",
       "      <td>0.489239</td>\n",
       "      <td>0.526882</td>\n",
       "    </tr>\n",
       "    <tr>\n",
       "      <th>1498</th>\n",
       "      <td>0.484379</td>\n",
       "      <td>0.481865</td>\n",
       "      <td>0.307653</td>\n",
       "      <td>0.317460</td>\n",
       "      <td>0.491729</td>\n",
       "      <td>0.526882</td>\n",
       "    </tr>\n",
       "    <tr>\n",
       "      <th>1499</th>\n",
       "      <td>0.479445</td>\n",
       "      <td>0.481865</td>\n",
       "      <td>0.306415</td>\n",
       "      <td>0.291005</td>\n",
       "      <td>0.493452</td>\n",
       "      <td>0.483871</td>\n",
       "    </tr>\n",
       "  </tbody>\n",
       "</table>\n",
       "<p>1500 rows × 6 columns</p>\n",
       "</div>"
      ],
      "text/plain": [
       "      Train_prediction_Min  Actual_Min  Train_prediction_Max  Actual_Max  \\\n",
       "0                 0.196014    0.194301              0.031172    0.026455   \n",
       "1                 0.196000    0.194301              0.030982    0.039683   \n",
       "2                 0.195825    0.194301              0.033168    0.039683   \n",
       "3                 0.195764    0.194301              0.035008    0.039683   \n",
       "4                 0.195786    0.191710              0.036621    0.039683   \n",
       "...                    ...         ...                   ...         ...   \n",
       "1495              0.503876    0.378238              0.299972    0.317460   \n",
       "1496              0.486227    0.585492              0.304307    0.343915   \n",
       "1497              0.491365    0.481865              0.305549    0.343915   \n",
       "1498              0.484379    0.481865              0.307653    0.317460   \n",
       "1499              0.479445    0.481865              0.306415    0.291005   \n",
       "\n",
       "      Train_prediction_Modal  Actual_Modal  \n",
       "0                   0.263405      0.258065  \n",
       "1                   0.262446      0.268817  \n",
       "2                   0.263438      0.268817  \n",
       "3                   0.264138      0.268817  \n",
       "4                   0.264700      0.279570  \n",
       "...                      ...           ...  \n",
       "1495                0.484455      0.526882  \n",
       "1496                0.484230      0.526882  \n",
       "1497                0.489239      0.526882  \n",
       "1498                0.491729      0.526882  \n",
       "1499                0.493452      0.483871  \n",
       "\n",
       "[1500 rows x 6 columns]"
      ]
     },
     "execution_count": 29,
     "metadata": {},
     "output_type": "execute_result"
    }
   ],
   "source": [
    "train_results"
   ]
  },
  {
   "cell_type": "code",
   "execution_count": 30,
   "metadata": {},
   "outputs": [
    {
     "data": {
      "image/png": "[encoded data removed]",
      "text/plain": [
       "<Figure size 1000x600 with 1 Axes>"
      ]
     },
     "metadata": {},
     "output_type": "display_data"
    }
   ],
   "source": [
    "plt.figure(figsize=(10,6))\n",
    "plt.plot(train_results['Train_prediction_Min'][:],color='orange',label='Predictions_Min')\n",
    "plt.plot(train_results['Actual_Min'][:],color='green',label='Actual_Min')\n",
    "plt.legend(loc='upper left')\n",
    "plt.show()"
   ]
  },
  {
   "cell_type": "code",
   "execution_count": 31,
   "metadata": {},
   "outputs": [
    {
     "data": {
      "text/plain": [
       "[<matplotlib.lines.Line2D at 0x2672a648f40>]"
      ]
     },
     "execution_count": 31,
     "metadata": {},
     "output_type": "execute_result"
    },
    {
     "data": {
      "image/png": "[encoded data removed]",
      "text/plain": [
       "<Figure size 1000x600 with 1 Axes>"
      ]
     },
     "metadata": {},
     "output_type": "display_data"
    }
   ],
   "source": [
    "plt.figure(figsize=(10,6))\n",
    "plt.plot(train_results['Train_prediction_Max'][:],color='orange',label='Predictions_Max')\n",
    "plt.plot(train_results['Actual_Max'][:],color='green',label='Actual_Max')"
   ]
  },
  {
   "cell_type": "code",
   "execution_count": 32,
   "metadata": {},
   "outputs": [
    {
     "data": {
      "text/plain": [
       "[<matplotlib.lines.Line2D at 0x2672a809c10>]"
      ]
     },
     "execution_count": 32,
     "metadata": {},
     "output_type": "execute_result"
    },
    {
     "data": {
      "image/png": "[encoded data removed]",
      "text/plain": [
       "<Figure size 1000x600 with 1 Axes>"
      ]
     },
     "metadata": {},
     "output_type": "display_data"
    }
   ],
   "source": [
    "plt.figure(figsize=(10,6))\n",
    "plt.plot(train_results['Train_prediction_Modal'][:],color='orange',label='Predictions_Modal')\n",
    "plt.plot(train_results['Actual_Modal'][:],color='green',label='Actual_Modal')"
   ]
  },
  {
   "cell_type": "code",
   "execution_count": 33,
   "metadata": {},
   "outputs": [
    {
     "data": {
      "text/plain": [
       "0.011005259243956914"
      ]
     },
     "execution_count": 33,
     "metadata": {},
     "output_type": "execute_result"
    }
   ],
   "source": [
    "from sklearn.metrics import mean_absolute_error, r2_score\n",
    "\n",
    "mae = mean_absolute_error(y_train,train_prediction)\n",
    "mae"
   ]
  },
  {
   "cell_type": "code",
   "execution_count": 34,
   "metadata": {},
   "outputs": [
    {
     "data": {
      "text/plain": [
       "83.98667728672238"
      ]
     },
     "execution_count": 34,
     "metadata": {},
     "output_type": "execute_result"
    }
   ],
   "source": [
    "r2 = r2_score(y_train,train_prediction)\n",
    "r2*100"
   ]
  },
  {
   "cell_type": "code",
   "execution_count": null,
   "metadata": {},
   "outputs": [],
   "source": []
  }
 ],
 "metadata": {
  "kernelspec": {
   "display_name": "MachineLearning",
   "language": "python",
   "name": "python3"
  },
  "language_info": {
   "codemirror_mode": {
    "name": "ipython",
    "version": 3
   },
   "file_extension": ".py",
   "mimetype": "text/x-python",
   "name": "python",
   "nbconvert_exporter": "python",
   "pygments_lexer": "ipython3",
   "version": "3.9.18"
  },
  "orig_nbformat": 4
 },
 "nbformat": 4,
 "nbformat_minor": 2
}
