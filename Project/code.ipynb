{
 "cells": [
  {
   "cell_type": "markdown",
   "metadata": {},
   "source": [
    "# Crop Price Prediction\n",
    "\n",
    "### Data preprocessing"
   ]
  },
  {
   "cell_type": "code",
   "execution_count": 19,
   "metadata": {},
   "outputs": [],
   "source": [
    "import pandas as pd\n",
    "import numpy as np\n",
    "\n",
    "excel_data = pd.read_excel('./Dataset/Modal price included.xlsx')\n",
    "dataframe = pd.DataFrame(excel_data)"
   ]
  },
  {
   "cell_type": "code",
   "execution_count": 20,
   "metadata": {},
   "outputs": [
    {
     "data": {
      "text/html": [
       "<div>\n",
       "<style scoped>\n",
       "    .dataframe tbody tr th:only-of-type {\n",
       "        vertical-align: middle;\n",
       "    }\n",
       "\n",
       "    .dataframe tbody tr th {\n",
       "        vertical-align: top;\n",
       "    }\n",
       "\n",
       "    .dataframe thead th {\n",
       "        text-align: right;\n",
       "    }\n",
       "</style>\n",
       "<table border=\"1\" class=\"dataframe\">\n",
       "  <thead>\n",
       "    <tr style=\"text-align: right;\">\n",
       "      <th></th>\n",
       "      <th>Market</th>\n",
       "      <th>Date</th>\n",
       "      <th>Variety</th>\n",
       "      <th>Grade</th>\n",
       "      <th>Arrivals</th>\n",
       "      <th>Unit</th>\n",
       "      <th>Min</th>\n",
       "      <th>Max</th>\n",
       "      <th>Modal</th>\n",
       "      <th>District</th>\n",
       "    </tr>\n",
       "  </thead>\n",
       "  <tbody>\n",
       "    <tr>\n",
       "      <th>0</th>\n",
       "      <td>BANTWALA</td>\n",
       "      <td>2022-04-01 00:00:00</td>\n",
       "      <td>COCA</td>\n",
       "      <td>AVERAGE</td>\n",
       "      <td>20.0</td>\n",
       "      <td>Quintal</td>\n",
       "      <td>12500.0</td>\n",
       "      <td>25000.0</td>\n",
       "      <td>22500.0</td>\n",
       "      <td>Dakshina Kannada</td>\n",
       "    </tr>\n",
       "    <tr>\n",
       "      <th>1</th>\n",
       "      <td>NaN</td>\n",
       "      <td>2022-04-04 00:00:00</td>\n",
       "      <td>COCA</td>\n",
       "      <td>AVERAGE</td>\n",
       "      <td>12.0</td>\n",
       "      <td>Quintal</td>\n",
       "      <td>12500.0</td>\n",
       "      <td>25000.0</td>\n",
       "      <td>22500.0</td>\n",
       "      <td>Dakshina Kannada</td>\n",
       "    </tr>\n",
       "    <tr>\n",
       "      <th>2</th>\n",
       "      <td>NaN</td>\n",
       "      <td>2022-04-05 00:00:00</td>\n",
       "      <td>COCA</td>\n",
       "      <td>AVERAGE</td>\n",
       "      <td>17.0</td>\n",
       "      <td>Quintal</td>\n",
       "      <td>12500.0</td>\n",
       "      <td>25000.0</td>\n",
       "      <td>22500.0</td>\n",
       "      <td>Dakshina Kannada</td>\n",
       "    </tr>\n",
       "    <tr>\n",
       "      <th>3</th>\n",
       "      <td>NaN</td>\n",
       "      <td>2022-04-06 00:00:00</td>\n",
       "      <td>COCA</td>\n",
       "      <td>AVERAGE</td>\n",
       "      <td>28.0</td>\n",
       "      <td>Quintal</td>\n",
       "      <td>12500.0</td>\n",
       "      <td>25000.0</td>\n",
       "      <td>22500.0</td>\n",
       "      <td>Dakshina Kannada</td>\n",
       "    </tr>\n",
       "    <tr>\n",
       "      <th>4</th>\n",
       "      <td>NaN</td>\n",
       "      <td>2022-04-07 00:00:00</td>\n",
       "      <td>COCA</td>\n",
       "      <td>AVERAGE</td>\n",
       "      <td>13.0</td>\n",
       "      <td>Quintal</td>\n",
       "      <td>12500.0</td>\n",
       "      <td>25000.0</td>\n",
       "      <td>22500.0</td>\n",
       "      <td>Dakshina Kannada</td>\n",
       "    </tr>\n",
       "  </tbody>\n",
       "</table>\n",
       "</div>"
      ],
      "text/plain": [
       "     Market                 Date Variety    Grade  Arrivals     Unit      Min   \n",
       "0  BANTWALA  2022-04-01 00:00:00    COCA  AVERAGE      20.0  Quintal  12500.0  \\\n",
       "1       NaN  2022-04-04 00:00:00    COCA  AVERAGE      12.0  Quintal  12500.0   \n",
       "2       NaN  2022-04-05 00:00:00    COCA  AVERAGE      17.0  Quintal  12500.0   \n",
       "3       NaN  2022-04-06 00:00:00    COCA  AVERAGE      28.0  Quintal  12500.0   \n",
       "4       NaN  2022-04-07 00:00:00    COCA  AVERAGE      13.0  Quintal  12500.0   \n",
       "\n",
       "       Max    Modal          District  \n",
       "0  25000.0  22500.0  Dakshina Kannada  \n",
       "1  25000.0  22500.0  Dakshina Kannada  \n",
       "2  25000.0  22500.0  Dakshina Kannada  \n",
       "3  25000.0  22500.0  Dakshina Kannada  \n",
       "4  25000.0  22500.0  Dakshina Kannada  "
      ]
     },
     "execution_count": 20,
     "metadata": {},
     "output_type": "execute_result"
    }
   ],
   "source": [
    "dataframe.head()"
   ]
  },
  {
   "cell_type": "code",
   "execution_count": 21,
   "metadata": {},
   "outputs": [
    {
     "name": "stdout",
     "output_type": "stream",
     "text": [
      "<class 'pandas.core.frame.DataFrame'>\n",
      "RangeIndex: 8889 entries, 0 to 8888\n",
      "Data columns (total 10 columns):\n",
      " #   Column    Non-Null Count  Dtype  \n",
      "---  ------    --------------  -----  \n",
      " 0   Market    876 non-null    object \n",
      " 1   Date      8451 non-null   object \n",
      " 2   Variety   8451 non-null   object \n",
      " 3   Grade     8451 non-null   object \n",
      " 4   Arrivals  8451 non-null   float64\n",
      " 5   Unit      8451 non-null   object \n",
      " 6   Min       8451 non-null   float64\n",
      " 7   Max       8451 non-null   float64\n",
      " 8   Modal     8451 non-null   float64\n",
      " 9   District  8451 non-null   object \n",
      "dtypes: float64(4), object(6)\n",
      "memory usage: 694.6+ KB\n"
     ]
    }
   ],
   "source": [
    "dataframe.info()"
   ]
  },
  {
   "cell_type": "code",
   "execution_count": 22,
   "metadata": {},
   "outputs": [
    {
     "data": {
      "text/plain": [
       "Market      8013\n",
       "Date         438\n",
       "Variety      438\n",
       "Grade        438\n",
       "Arrivals     438\n",
       "Unit         438\n",
       "Min          438\n",
       "Max          438\n",
       "Modal        438\n",
       "District     438\n",
       "dtype: int64"
      ]
     },
     "execution_count": 22,
     "metadata": {},
     "output_type": "execute_result"
    }
   ],
   "source": [
    "dataframe.isna().sum()"
   ]
  },
  {
   "cell_type": "markdown",
   "metadata": {},
   "source": [
    "#### Market coulumn has many NaN vlaues in between, First we fill it by considering the first value in each row"
   ]
  },
  {
   "cell_type": "code",
   "execution_count": 23,
   "metadata": {},
   "outputs": [
    {
     "name": "stdout",
     "output_type": "stream",
     "text": [
      "After filling the null values\n"
     ]
    },
    {
     "data": {
      "text/plain": [
       "Market        0\n",
       "Date        438\n",
       "Variety     438\n",
       "Grade       438\n",
       "Arrivals    438\n",
       "Unit        438\n",
       "Min         438\n",
       "Max         438\n",
       "Modal       438\n",
       "District    438\n",
       "dtype: int64"
      ]
     },
     "execution_count": 23,
     "metadata": {},
     "output_type": "execute_result"
    }
   ],
   "source": [
    "dataframe['Market'] = dataframe['Market'].fillna(method= 'pad')\n",
    "print('After filling the null values')\n",
    "dataframe.isna().sum()"
   ]
  },
  {
   "cell_type": "code",
   "execution_count": 24,
   "metadata": {},
   "outputs": [
    {
     "data": {
      "text/html": [
       "<div>\n",
       "<style scoped>\n",
       "    .dataframe tbody tr th:only-of-type {\n",
       "        vertical-align: middle;\n",
       "    }\n",
       "\n",
       "    .dataframe tbody tr th {\n",
       "        vertical-align: top;\n",
       "    }\n",
       "\n",
       "    .dataframe thead th {\n",
       "        text-align: right;\n",
       "    }\n",
       "</style>\n",
       "<table border=\"1\" class=\"dataframe\">\n",
       "  <thead>\n",
       "    <tr style=\"text-align: right;\">\n",
       "      <th></th>\n",
       "      <th>Market</th>\n",
       "      <th>Date</th>\n",
       "      <th>Variety</th>\n",
       "      <th>Grade</th>\n",
       "      <th>Arrivals</th>\n",
       "      <th>Unit</th>\n",
       "      <th>Min</th>\n",
       "      <th>Max</th>\n",
       "      <th>Modal</th>\n",
       "      <th>District</th>\n",
       "    </tr>\n",
       "  </thead>\n",
       "  <tbody>\n",
       "    <tr>\n",
       "      <th>8884</th>\n",
       "      <td>SULYA</td>\n",
       "      <td>2022-09-12 00:00:00</td>\n",
       "      <td>BLACK PEPPER</td>\n",
       "      <td>AVERAGE</td>\n",
       "      <td>11.0</td>\n",
       "      <td>Quintal</td>\n",
       "      <td>30000.0</td>\n",
       "      <td>49500.0</td>\n",
       "      <td>46300.0</td>\n",
       "      <td>Dakshina Kannada</td>\n",
       "    </tr>\n",
       "    <tr>\n",
       "      <th>8885</th>\n",
       "      <td>SULYA</td>\n",
       "      <td>2022-09-19 00:00:00</td>\n",
       "      <td>BLACK PEPPER</td>\n",
       "      <td>AVERAGE</td>\n",
       "      <td>16.0</td>\n",
       "      <td>Quintal</td>\n",
       "      <td>30000.0</td>\n",
       "      <td>49000.0</td>\n",
       "      <td>40000.0</td>\n",
       "      <td>Dakshina Kannada</td>\n",
       "    </tr>\n",
       "    <tr>\n",
       "      <th>8886</th>\n",
       "      <td>SULYA</td>\n",
       "      <td>2022-09-28 00:00:00</td>\n",
       "      <td>BLACK PEPPER</td>\n",
       "      <td>AVERAGE</td>\n",
       "      <td>30.0</td>\n",
       "      <td>Quintal</td>\n",
       "      <td>30000.0</td>\n",
       "      <td>49500.0</td>\n",
       "      <td>48700.0</td>\n",
       "      <td>Dakshina Kannada</td>\n",
       "    </tr>\n",
       "    <tr>\n",
       "      <th>8887</th>\n",
       "      <td>SULYA</td>\n",
       "      <td>2022-09-30 00:00:00</td>\n",
       "      <td>BLACK PEPPER</td>\n",
       "      <td>AVERAGE</td>\n",
       "      <td>12.0</td>\n",
       "      <td>Quintal</td>\n",
       "      <td>30000.0</td>\n",
       "      <td>49000.0</td>\n",
       "      <td>40000.0</td>\n",
       "      <td>Dakshina Kannada</td>\n",
       "    </tr>\n",
       "    <tr>\n",
       "      <th>8888</th>\n",
       "      <td></td>\n",
       "      <td>NaN</td>\n",
       "      <td>NaN</td>\n",
       "      <td>NaN</td>\n",
       "      <td>NaN</td>\n",
       "      <td>NaN</td>\n",
       "      <td>NaN</td>\n",
       "      <td>NaN</td>\n",
       "      <td>NaN</td>\n",
       "      <td>NaN</td>\n",
       "    </tr>\n",
       "  </tbody>\n",
       "</table>\n",
       "</div>"
      ],
      "text/plain": [
       "       Market                 Date       Variety    Grade  Arrivals     Unit   \n",
       "8884    SULYA  2022-09-12 00:00:00  BLACK PEPPER  AVERAGE      11.0  Quintal  \\\n",
       "8885    SULYA  2022-09-19 00:00:00  BLACK PEPPER  AVERAGE      16.0  Quintal   \n",
       "8886    SULYA  2022-09-28 00:00:00  BLACK PEPPER  AVERAGE      30.0  Quintal   \n",
       "8887    SULYA  2022-09-30 00:00:00  BLACK PEPPER  AVERAGE      12.0  Quintal   \n",
       "8888                           NaN           NaN      NaN       NaN      NaN   \n",
       "\n",
       "          Min      Max    Modal          District  \n",
       "8884  30000.0  49500.0  46300.0  Dakshina Kannada  \n",
       "8885  30000.0  49000.0  40000.0  Dakshina Kannada  \n",
       "8886  30000.0  49500.0  48700.0  Dakshina Kannada  \n",
       "8887  30000.0  49000.0  40000.0  Dakshina Kannada  \n",
       "8888      NaN      NaN      NaN               NaN  "
      ]
     },
     "execution_count": 24,
     "metadata": {},
     "output_type": "execute_result"
    }
   ],
   "source": [
    "dataframe.tail()"
   ]
  },
  {
   "cell_type": "markdown",
   "metadata": {},
   "source": [
    "#### There are some empty rows inbetween we remove it by considering one of the columns NaN value"
   ]
  },
  {
   "cell_type": "code",
   "execution_count": 25,
   "metadata": {},
   "outputs": [
    {
     "name": "stdout",
     "output_type": "stream",
     "text": [
      "Before removing Null values: \n"
     ]
    },
    {
     "data": {
      "text/plain": [
       "Market        0\n",
       "Date        438\n",
       "Variety     438\n",
       "Grade       438\n",
       "Arrivals    438\n",
       "Unit        438\n",
       "Min         438\n",
       "Max         438\n",
       "Modal       438\n",
       "District    438\n",
       "dtype: int64"
      ]
     },
     "execution_count": 25,
     "metadata": {},
     "output_type": "execute_result"
    }
   ],
   "source": [
    "print('Before removing Null values: ')\n",
    "dataframe.isna().sum()"
   ]
  },
  {
   "cell_type": "code",
   "execution_count": 26,
   "metadata": {},
   "outputs": [],
   "source": [
    "dataframe = dataframe.dropna(subset=['Unit'])"
   ]
  },
  {
   "cell_type": "code",
   "execution_count": 27,
   "metadata": {},
   "outputs": [
    {
     "name": "stdout",
     "output_type": "stream",
     "text": [
      "After removing Null values: \n"
     ]
    },
    {
     "data": {
      "text/plain": [
       "Market      0\n",
       "Date        0\n",
       "Variety     0\n",
       "Grade       0\n",
       "Arrivals    0\n",
       "Unit        0\n",
       "Min         0\n",
       "Max         0\n",
       "Modal       0\n",
       "District    0\n",
       "dtype: int64"
      ]
     },
     "execution_count": 27,
     "metadata": {},
     "output_type": "execute_result"
    }
   ],
   "source": [
    "print('After removing Null values: ')\n",
    "dataframe.isna().sum()"
   ]
  },
  {
   "cell_type": "markdown",
   "metadata": {},
   "source": [
    "#### Additional information"
   ]
  },
  {
   "cell_type": "code",
   "execution_count": 28,
   "metadata": {},
   "outputs": [
    {
     "data": {
      "text/html": [
       "<div>\n",
       "<style scoped>\n",
       "    .dataframe tbody tr th:only-of-type {\n",
       "        vertical-align: middle;\n",
       "    }\n",
       "\n",
       "    .dataframe tbody tr th {\n",
       "        vertical-align: top;\n",
       "    }\n",
       "\n",
       "    .dataframe thead th {\n",
       "        text-align: right;\n",
       "    }\n",
       "</style>\n",
       "<table border=\"1\" class=\"dataframe\">\n",
       "  <thead>\n",
       "    <tr style=\"text-align: right;\">\n",
       "      <th></th>\n",
       "      <th>Arrivals</th>\n",
       "      <th>Min</th>\n",
       "      <th>Max</th>\n",
       "      <th>Modal</th>\n",
       "    </tr>\n",
       "  </thead>\n",
       "  <tbody>\n",
       "    <tr>\n",
       "      <th>count</th>\n",
       "      <td>8451.000000</td>\n",
       "      <td>8451.000000</td>\n",
       "      <td>8451.000000</td>\n",
       "      <td>8451.000000</td>\n",
       "    </tr>\n",
       "    <tr>\n",
       "      <th>mean</th>\n",
       "      <td>3083.807242</td>\n",
       "      <td>22540.610342</td>\n",
       "      <td>33188.377588</td>\n",
       "      <td>28955.751035</td>\n",
       "    </tr>\n",
       "    <tr>\n",
       "      <th>std</th>\n",
       "      <td>21716.029849</td>\n",
       "      <td>10651.062144</td>\n",
       "      <td>11636.051360</td>\n",
       "      <td>10915.411474</td>\n",
       "    </tr>\n",
       "    <tr>\n",
       "      <th>min</th>\n",
       "      <td>1.000000</td>\n",
       "      <td>800.000000</td>\n",
       "      <td>1600.000000</td>\n",
       "      <td>1400.000000</td>\n",
       "    </tr>\n",
       "    <tr>\n",
       "      <th>25%</th>\n",
       "      <td>16.000000</td>\n",
       "      <td>12500.000000</td>\n",
       "      <td>25000.000000</td>\n",
       "      <td>20000.000000</td>\n",
       "    </tr>\n",
       "    <tr>\n",
       "      <th>50%</th>\n",
       "      <td>56.000000</td>\n",
       "      <td>22500.000000</td>\n",
       "      <td>31800.000000</td>\n",
       "      <td>27500.000000</td>\n",
       "    </tr>\n",
       "    <tr>\n",
       "      <th>75%</th>\n",
       "      <td>245.000000</td>\n",
       "      <td>28500.000000</td>\n",
       "      <td>43000.000000</td>\n",
       "      <td>37000.000000</td>\n",
       "    </tr>\n",
       "    <tr>\n",
       "      <th>max</th>\n",
       "      <td>755975.000000</td>\n",
       "      <td>51250.000000</td>\n",
       "      <td>58000.000000</td>\n",
       "      <td>53000.000000</td>\n",
       "    </tr>\n",
       "  </tbody>\n",
       "</table>\n",
       "</div>"
      ],
      "text/plain": [
       "            Arrivals           Min           Max         Modal\n",
       "count    8451.000000   8451.000000   8451.000000   8451.000000\n",
       "mean     3083.807242  22540.610342  33188.377588  28955.751035\n",
       "std     21716.029849  10651.062144  11636.051360  10915.411474\n",
       "min         1.000000    800.000000   1600.000000   1400.000000\n",
       "25%        16.000000  12500.000000  25000.000000  20000.000000\n",
       "50%        56.000000  22500.000000  31800.000000  27500.000000\n",
       "75%       245.000000  28500.000000  43000.000000  37000.000000\n",
       "max    755975.000000  51250.000000  58000.000000  53000.000000"
      ]
     },
     "execution_count": 28,
     "metadata": {},
     "output_type": "execute_result"
    }
   ],
   "source": [
    "dataframe.describe()"
   ]
  },
  {
   "cell_type": "code",
   "execution_count": 29,
   "metadata": {},
   "outputs": [
    {
     "name": "stdout",
     "output_type": "stream",
     "text": [
      "<class 'pandas.core.frame.DataFrame'>\n",
      "Index: 8451 entries, 0 to 8887\n",
      "Data columns (total 10 columns):\n",
      " #   Column    Non-Null Count  Dtype  \n",
      "---  ------    --------------  -----  \n",
      " 0   Market    8451 non-null   object \n",
      " 1   Date      8451 non-null   object \n",
      " 2   Variety   8451 non-null   object \n",
      " 3   Grade     8451 non-null   object \n",
      " 4   Arrivals  8451 non-null   float64\n",
      " 5   Unit      8451 non-null   object \n",
      " 6   Min       8451 non-null   float64\n",
      " 7   Max       8451 non-null   float64\n",
      " 8   Modal     8451 non-null   float64\n",
      " 9   District  8451 non-null   object \n",
      "dtypes: float64(4), object(6)\n",
      "memory usage: 726.3+ KB\n"
     ]
    }
   ],
   "source": [
    "dataframe.info()"
   ]
  },
  {
   "cell_type": "markdown",
   "metadata": {},
   "source": [
    "#### Converting the Date from object type to datetime type"
   ]
  },
  {
   "cell_type": "code",
   "execution_count": 30,
   "metadata": {},
   "outputs": [
    {
     "name": "stdout",
     "output_type": "stream",
     "text": [
      "datetime64[ns]\n"
     ]
    }
   ],
   "source": [
    "df = dataframe\n",
    "df['Date'] = pd.to_datetime(df['Date'])\n",
    "print(df['Date'].dtype)"
   ]
  },
  {
   "cell_type": "markdown",
   "metadata": {},
   "source": [
    "#### Sorting the date"
   ]
  },
  {
   "cell_type": "code",
   "execution_count": 31,
   "metadata": {},
   "outputs": [
    {
     "data": {
      "text/html": [
       "<div>\n",
       "<style scoped>\n",
       "    .dataframe tbody tr th:only-of-type {\n",
       "        vertical-align: middle;\n",
       "    }\n",
       "\n",
       "    .dataframe tbody tr th {\n",
       "        vertical-align: top;\n",
       "    }\n",
       "\n",
       "    .dataframe thead th {\n",
       "        text-align: right;\n",
       "    }\n",
       "</style>\n",
       "<table border=\"1\" class=\"dataframe\">\n",
       "  <thead>\n",
       "    <tr style=\"text-align: right;\">\n",
       "      <th></th>\n",
       "      <th>Market</th>\n",
       "      <th>Date</th>\n",
       "      <th>Variety</th>\n",
       "      <th>Grade</th>\n",
       "      <th>Arrivals</th>\n",
       "      <th>Unit</th>\n",
       "      <th>Min</th>\n",
       "      <th>Max</th>\n",
       "      <th>Modal</th>\n",
       "      <th>District</th>\n",
       "    </tr>\n",
       "  </thead>\n",
       "  <tbody>\n",
       "    <tr>\n",
       "      <th>6296</th>\n",
       "      <td>PUTTUR</td>\n",
       "      <td>2020-01-01</td>\n",
       "      <td>NEW VARIETY</td>\n",
       "      <td>AVERAGE</td>\n",
       "      <td>310.0</td>\n",
       "      <td>Quintal</td>\n",
       "      <td>15000.0</td>\n",
       "      <td>24500.0</td>\n",
       "      <td>19750.0</td>\n",
       "      <td>Dakshina Kannada</td>\n",
       "    </tr>\n",
       "    <tr>\n",
       "      <th>4730</th>\n",
       "      <td>MANGALURU</td>\n",
       "      <td>2020-01-01</td>\n",
       "      <td>NEW VARIETY</td>\n",
       "      <td>AVERAGE</td>\n",
       "      <td>85.0</td>\n",
       "      <td>Quintal</td>\n",
       "      <td>20000.0</td>\n",
       "      <td>24500.0</td>\n",
       "      <td>22000.0</td>\n",
       "      <td>Dakshina Kannada</td>\n",
       "    </tr>\n",
       "    <tr>\n",
       "      <th>3007</th>\n",
       "      <td>BELTHANGADI</td>\n",
       "      <td>2020-01-01</td>\n",
       "      <td>OTHER</td>\n",
       "      <td>AVERAGE</td>\n",
       "      <td>3.0</td>\n",
       "      <td>Quintal</td>\n",
       "      <td>21000.0</td>\n",
       "      <td>22000.0</td>\n",
       "      <td>21500.0</td>\n",
       "      <td>Dakshina Kannada</td>\n",
       "    </tr>\n",
       "    <tr>\n",
       "      <th>4754</th>\n",
       "      <td>MANGALURU</td>\n",
       "      <td>2020-01-01</td>\n",
       "      <td>OLD VARIETY</td>\n",
       "      <td>AVERAGE</td>\n",
       "      <td>95.0</td>\n",
       "      <td>Quintal</td>\n",
       "      <td>25000.0</td>\n",
       "      <td>29500.0</td>\n",
       "      <td>28000.0</td>\n",
       "      <td>Dakshina Kannada</td>\n",
       "    </tr>\n",
       "    <tr>\n",
       "      <th>4706</th>\n",
       "      <td>MANGALURU</td>\n",
       "      <td>2020-01-01</td>\n",
       "      <td>COCA</td>\n",
       "      <td>AVERAGE</td>\n",
       "      <td>100.0</td>\n",
       "      <td>Quintal</td>\n",
       "      <td>16000.0</td>\n",
       "      <td>21500.0</td>\n",
       "      <td>19000.0</td>\n",
       "      <td>Dakshina Kannada</td>\n",
       "    </tr>\n",
       "  </tbody>\n",
       "</table>\n",
       "</div>"
      ],
      "text/plain": [
       "           Market       Date      Variety    Grade  Arrivals     Unit   \n",
       "6296       PUTTUR 2020-01-01  NEW VARIETY  AVERAGE     310.0  Quintal  \\\n",
       "4730    MANGALURU 2020-01-01  NEW VARIETY  AVERAGE      85.0  Quintal   \n",
       "3007  BELTHANGADI 2020-01-01        OTHER  AVERAGE       3.0  Quintal   \n",
       "4754    MANGALURU 2020-01-01  OLD VARIETY  AVERAGE      95.0  Quintal   \n",
       "4706    MANGALURU 2020-01-01         COCA  AVERAGE     100.0  Quintal   \n",
       "\n",
       "          Min      Max    Modal          District  \n",
       "6296  15000.0  24500.0  19750.0  Dakshina Kannada  \n",
       "4730  20000.0  24500.0  22000.0  Dakshina Kannada  \n",
       "3007  21000.0  22000.0  21500.0  Dakshina Kannada  \n",
       "4754  25000.0  29500.0  28000.0  Dakshina Kannada  \n",
       "4706  16000.0  21500.0  19000.0  Dakshina Kannada  "
      ]
     },
     "execution_count": 31,
     "metadata": {},
     "output_type": "execute_result"
    }
   ],
   "source": [
    "df.sort_values(by='Date',inplace=True)\n",
    "df.head()"
   ]
  },
  {
   "cell_type": "code",
   "execution_count": 32,
   "metadata": {},
   "outputs": [
    {
     "data": {
      "text/html": [
       "<div>\n",
       "<style scoped>\n",
       "    .dataframe tbody tr th:only-of-type {\n",
       "        vertical-align: middle;\n",
       "    }\n",
       "\n",
       "    .dataframe tbody tr th {\n",
       "        vertical-align: top;\n",
       "    }\n",
       "\n",
       "    .dataframe thead th {\n",
       "        text-align: right;\n",
       "    }\n",
       "</style>\n",
       "<table border=\"1\" class=\"dataframe\">\n",
       "  <thead>\n",
       "    <tr style=\"text-align: right;\">\n",
       "      <th></th>\n",
       "      <th>Market</th>\n",
       "      <th>Date</th>\n",
       "      <th>Variety</th>\n",
       "      <th>Grade</th>\n",
       "      <th>Arrivals</th>\n",
       "      <th>Unit</th>\n",
       "      <th>Min</th>\n",
       "      <th>Max</th>\n",
       "      <th>Modal</th>\n",
       "      <th>District</th>\n",
       "    </tr>\n",
       "  </thead>\n",
       "  <tbody>\n",
       "    <tr>\n",
       "      <th>0</th>\n",
       "      <td>PUTTUR</td>\n",
       "      <td>2020-01-01</td>\n",
       "      <td>NEW VARIETY</td>\n",
       "      <td>AVERAGE</td>\n",
       "      <td>310.0</td>\n",
       "      <td>Quintal</td>\n",
       "      <td>15000.0</td>\n",
       "      <td>24500.0</td>\n",
       "      <td>19750.0</td>\n",
       "      <td>Dakshina Kannada</td>\n",
       "    </tr>\n",
       "    <tr>\n",
       "      <th>1</th>\n",
       "      <td>MANGALURU</td>\n",
       "      <td>2020-01-01</td>\n",
       "      <td>NEW VARIETY</td>\n",
       "      <td>AVERAGE</td>\n",
       "      <td>85.0</td>\n",
       "      <td>Quintal</td>\n",
       "      <td>20000.0</td>\n",
       "      <td>24500.0</td>\n",
       "      <td>22000.0</td>\n",
       "      <td>Dakshina Kannada</td>\n",
       "    </tr>\n",
       "    <tr>\n",
       "      <th>2</th>\n",
       "      <td>BELTHANGADI</td>\n",
       "      <td>2020-01-01</td>\n",
       "      <td>OTHER</td>\n",
       "      <td>AVERAGE</td>\n",
       "      <td>3.0</td>\n",
       "      <td>Quintal</td>\n",
       "      <td>21000.0</td>\n",
       "      <td>22000.0</td>\n",
       "      <td>21500.0</td>\n",
       "      <td>Dakshina Kannada</td>\n",
       "    </tr>\n",
       "    <tr>\n",
       "      <th>3</th>\n",
       "      <td>MANGALURU</td>\n",
       "      <td>2020-01-01</td>\n",
       "      <td>OLD VARIETY</td>\n",
       "      <td>AVERAGE</td>\n",
       "      <td>95.0</td>\n",
       "      <td>Quintal</td>\n",
       "      <td>25000.0</td>\n",
       "      <td>29500.0</td>\n",
       "      <td>28000.0</td>\n",
       "      <td>Dakshina Kannada</td>\n",
       "    </tr>\n",
       "    <tr>\n",
       "      <th>4</th>\n",
       "      <td>MANGALURU</td>\n",
       "      <td>2020-01-01</td>\n",
       "      <td>COCA</td>\n",
       "      <td>AVERAGE</td>\n",
       "      <td>100.0</td>\n",
       "      <td>Quintal</td>\n",
       "      <td>16000.0</td>\n",
       "      <td>21500.0</td>\n",
       "      <td>19000.0</td>\n",
       "      <td>Dakshina Kannada</td>\n",
       "    </tr>\n",
       "    <tr>\n",
       "      <th>...</th>\n",
       "      <td>...</td>\n",
       "      <td>...</td>\n",
       "      <td>...</td>\n",
       "      <td>...</td>\n",
       "      <td>...</td>\n",
       "      <td>...</td>\n",
       "      <td>...</td>\n",
       "      <td>...</td>\n",
       "      <td>...</td>\n",
       "      <td>...</td>\n",
       "    </tr>\n",
       "    <tr>\n",
       "      <th>8446</th>\n",
       "      <td>BANTWALA</td>\n",
       "      <td>2022-12-31</td>\n",
       "      <td>COCA</td>\n",
       "      <td>AVERAGE</td>\n",
       "      <td>39.0</td>\n",
       "      <td>Quintal</td>\n",
       "      <td>12500.0</td>\n",
       "      <td>25000.0</td>\n",
       "      <td>22500.0</td>\n",
       "      <td>Dakshina Kannada</td>\n",
       "    </tr>\n",
       "    <tr>\n",
       "      <th>8447</th>\n",
       "      <td>BANTWALA</td>\n",
       "      <td>2022-12-31</td>\n",
       "      <td>NEW VARIETY</td>\n",
       "      <td>AVERAGE</td>\n",
       "      <td>4.0</td>\n",
       "      <td>Quintal</td>\n",
       "      <td>22500.0</td>\n",
       "      <td>38000.0</td>\n",
       "      <td>37500.0</td>\n",
       "      <td>Dakshina Kannada</td>\n",
       "    </tr>\n",
       "    <tr>\n",
       "      <th>8448</th>\n",
       "      <td>BELTHANGADI</td>\n",
       "      <td>2022-12-31</td>\n",
       "      <td>COCA</td>\n",
       "      <td>AVERAGE</td>\n",
       "      <td>50.0</td>\n",
       "      <td>Quintal</td>\n",
       "      <td>23000.0</td>\n",
       "      <td>24000.0</td>\n",
       "      <td>23500.0</td>\n",
       "      <td>Dakshina Kannada</td>\n",
       "    </tr>\n",
       "    <tr>\n",
       "      <th>8449</th>\n",
       "      <td>BELTHANGADI</td>\n",
       "      <td>2022-12-31</td>\n",
       "      <td>OLD VARIETY</td>\n",
       "      <td>AVERAGE</td>\n",
       "      <td>317.0</td>\n",
       "      <td>Quintal</td>\n",
       "      <td>43600.0</td>\n",
       "      <td>48000.0</td>\n",
       "      <td>46000.0</td>\n",
       "      <td>Dakshina Kannada</td>\n",
       "    </tr>\n",
       "    <tr>\n",
       "      <th>8450</th>\n",
       "      <td>SULYA</td>\n",
       "      <td>2022-12-31</td>\n",
       "      <td>BLACK PEPPER</td>\n",
       "      <td>AVERAGE</td>\n",
       "      <td>39.0</td>\n",
       "      <td>Quintal</td>\n",
       "      <td>35000.0</td>\n",
       "      <td>49000.0</td>\n",
       "      <td>47800.0</td>\n",
       "      <td>Dakshina Kannada</td>\n",
       "    </tr>\n",
       "  </tbody>\n",
       "</table>\n",
       "<p>8451 rows × 10 columns</p>\n",
       "</div>"
      ],
      "text/plain": [
       "           Market       Date       Variety    Grade  Arrivals     Unit   \n",
       "0          PUTTUR 2020-01-01   NEW VARIETY  AVERAGE     310.0  Quintal  \\\n",
       "1       MANGALURU 2020-01-01   NEW VARIETY  AVERAGE      85.0  Quintal   \n",
       "2     BELTHANGADI 2020-01-01         OTHER  AVERAGE       3.0  Quintal   \n",
       "3       MANGALURU 2020-01-01   OLD VARIETY  AVERAGE      95.0  Quintal   \n",
       "4       MANGALURU 2020-01-01          COCA  AVERAGE     100.0  Quintal   \n",
       "...           ...        ...           ...      ...       ...      ...   \n",
       "8446     BANTWALA 2022-12-31          COCA  AVERAGE      39.0  Quintal   \n",
       "8447     BANTWALA 2022-12-31   NEW VARIETY  AVERAGE       4.0  Quintal   \n",
       "8448  BELTHANGADI 2022-12-31          COCA  AVERAGE      50.0  Quintal   \n",
       "8449  BELTHANGADI 2022-12-31   OLD VARIETY  AVERAGE     317.0  Quintal   \n",
       "8450        SULYA 2022-12-31  BLACK PEPPER  AVERAGE      39.0  Quintal   \n",
       "\n",
       "          Min      Max    Modal          District  \n",
       "0     15000.0  24500.0  19750.0  Dakshina Kannada  \n",
       "1     20000.0  24500.0  22000.0  Dakshina Kannada  \n",
       "2     21000.0  22000.0  21500.0  Dakshina Kannada  \n",
       "3     25000.0  29500.0  28000.0  Dakshina Kannada  \n",
       "4     16000.0  21500.0  19000.0  Dakshina Kannada  \n",
       "...       ...      ...      ...               ...  \n",
       "8446  12500.0  25000.0  22500.0  Dakshina Kannada  \n",
       "8447  22500.0  38000.0  37500.0  Dakshina Kannada  \n",
       "8448  23000.0  24000.0  23500.0  Dakshina Kannada  \n",
       "8449  43600.0  48000.0  46000.0  Dakshina Kannada  \n",
       "8450  35000.0  49000.0  47800.0  Dakshina Kannada  \n",
       "\n",
       "[8451 rows x 10 columns]"
      ]
     },
     "execution_count": 32,
     "metadata": {},
     "output_type": "execute_result"
    }
   ],
   "source": [
    "df.reset_index(drop=True)"
   ]
  },
  {
   "cell_type": "code",
   "execution_count": 33,
   "metadata": {},
   "outputs": [
    {
     "data": {
      "text/plain": [
       "array(['NEW VARIETY', 'OTHER', 'OLD VARIETY', 'COCA', 'GRADE- II',\n",
       "       'GRADE-I', 'BLACK PEPPER', 'MEDIUM', 'COCONUT'], dtype=object)"
      ]
     },
     "execution_count": 33,
     "metadata": {},
     "output_type": "execute_result"
    }
   ],
   "source": [
    "df['Variety'].unique()"
   ]
  },
  {
   "cell_type": "markdown",
   "metadata": {},
   "source": [
    "#### Visualize the data"
   ]
  },
  {
   "cell_type": "code",
   "execution_count": 36,
   "metadata": {},
   "outputs": [
    {
     "data": {
      "image/png": "[encoded data removed]",
      "text/plain": [
       "<Figure size 2000x1000 with 1 Axes>"
      ]
     },
     "metadata": {},
     "output_type": "display_data"
    }
   ],
   "source": [
    "df2 = df\n",
    "from matplotlib import pyplot as plt\n",
    "\n",
    "\n",
    "plt.figure(figsize=(20,10))\n",
    "plt.plot(df2['Date'],df2['Modal'])\n",
    "plt.xlabel('Date')\n",
    "plt.ylabel('Modal Price')\n",
    "plt.show()"
   ]
  },
  {
   "cell_type": "markdown",
   "metadata": {},
   "source": [
    "#### Augmented Dickey-Fuller Test (ADF Test) to check stationarity"
   ]
  },
  {
   "cell_type": "code",
   "execution_count": null,
   "metadata": {},
   "outputs": [],
   "source": []
  }
 ],
 "metadata": {
  "kernelspec": {
   "display_name": "Python 3",
   "language": "python",
   "name": "python3"
  },
  "language_info": {
   "codemirror_mode": {
    "name": "ipython",
    "version": 3
   },
   "file_extension": ".py",
   "mimetype": "text/x-python",
   "name": "python",
   "nbconvert_exporter": "python",
   "pygments_lexer": "ipython3",
   "version": "3.10.11"
  },
  "orig_nbformat": 4
 },
 "nbformat": 4,
 "nbformat_minor": 2
}
